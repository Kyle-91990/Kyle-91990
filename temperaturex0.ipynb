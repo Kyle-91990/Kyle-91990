{
  "nbformat": 4,
  "nbformat_minor": 0,
  "metadata": {
    "colab": {
      "provenance": [],
      "authorship_tag": "ABX9TyMeIxkYQC+bDzYd6qIppNJ9",
      "include_colab_link": true
    },
    "kernelspec": {
      "name": "python3",
      "display_name": "Python 3"
    },
    "language_info": {
      "name": "python"
    }
  },
  "cells": [
    {
      "cell_type": "markdown",
      "metadata": {
        "id": "view-in-github",
        "colab_type": "text"
      },
      "source": [
        "<a href=\"https://colab.research.google.com/github/Kyle-91990/Kyle-91990/blob/main/temperaturex0.ipynb\" target=\"_parent\"><img src=\"https://colab.research.google.com/assets/colab-badge.svg\" alt=\"Open In Colab\"/></a>"
      ]
    },
    {
      "cell_type": "code",
      "execution_count": null,
      "metadata": {
        "id": "MYSPh_hxVJwN"
      },
      "outputs": [],
      "source": [
        "# Control flow example for grading student marks\n",
        "# This will ask the user for input and grade the student's performance\n",
        "\n",
        "# Prompt the user for student marks\n",
        "marks = int(input(\"Enter the student's marks (0-100): \"))\n",
        "\n",
        "# Grading system based on the marks\n",
        "if marks > 70:\n",
        "    print(\"Grade: Distinction 🏆\")\n",
        "elif marks >= 60:\n",
        "    print(\"Grade: Credit 🎖️\")\n",
        "elif marks >= 50:\n",
        "    print(\"Grade: Pass 👍\")\n",
        "else:\n",
        "    print(\"Grade: Fail ❌\")"
      ]
    },
    {
      "cell_type": "code",
      "source": [],
      "metadata": {
        "id": "1PEE6NwUVP2A"
      },
      "execution_count": null,
      "outputs": []
    }
  ]
}